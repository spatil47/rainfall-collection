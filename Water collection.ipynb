{
 "cells": [
  {
   "cell_type": "markdown",
   "metadata": {},
   "source": [
    "# Water collection"
   ]
  },
  {
   "cell_type": "code",
   "execution_count": 65,
   "metadata": {},
   "outputs": [],
   "source": [
    "using Unitful, UnitfulUS\n",
    "using Statistics\n",
    "using Measurements"
   ]
  },
  {
   "cell_type": "markdown",
   "metadata": {},
   "source": [
    "According to one estimate, our back roof's \"shadow area\" (ground area underneath it, assuming that the rain falls straight down) is approximately 116 square meters. According to another estimate, our back roof's shadow area is 6.51 meter by 19.16 meter."
   ]
  },
  {
   "cell_type": "code",
   "execution_count": 91,
   "metadata": {},
   "outputs": [
    {
     "data": {
      "text/plain": [
       "2-element Vector{Quantity{Float64, 𝐋^2, Unitful.FreeUnits{(m^2,), 𝐋^2, nothing}}}:\n",
       "    116.0 m^2\n",
       " 124.7316 m^2"
      ]
     },
     "execution_count": 91,
     "metadata": {},
     "output_type": "execute_result"
    }
   ],
   "source": [
    "roof_shadow_area_estimates = [\n",
    "    116u\"m^2\",\n",
    "    6.51u\"m\" * 19.16u\"m\"\n",
    "]"
   ]
  },
  {
   "cell_type": "markdown",
   "metadata": {},
   "source": [
    "We can use an average of the estimates, which consists of the mean of the estimates plus/minus one standard deviation of the estimates."
   ]
  },
  {
   "cell_type": "code",
   "execution_count": 121,
   "metadata": {},
   "outputs": [
    {
     "data": {
      "text/plain": [
       "120.4 ± 6.2 m^2"
      ]
     },
     "execution_count": 121,
     "metadata": {},
     "output_type": "execute_result"
    }
   ],
   "source": [
    "roof_shadow_area = mean(roof_shadow_area_estimates) ± std(roof_shadow_area_estimates)"
   ]
  },
  {
   "cell_type": "markdown",
   "metadata": {},
   "source": [
    "How much water would be collected from the back roof for every 0.1-inch increment between 0.1 inch and 1.0 inch of rainfall?"
   ]
  },
  {
   "cell_type": "code",
   "execution_count": 122,
   "metadata": {
    "scrolled": true
   },
   "outputs": [
    {
     "data": {
      "text/plain": [
       "10-element Vector{Quantity{Measurement{Float64}, 𝐋^3, Unitful.FreeUnits{(galᵘˢ,), 𝐋^3, nothing}}}:\n",
       "   80.8 ± 4.1 galᵘˢ\n",
       "  161.5 ± 8.3 galᵘˢ\n",
       " 242.0 ± 12.0 galᵘˢ\n",
       " 323.0 ± 17.0 galᵘˢ\n",
       " 404.0 ± 21.0 galᵘˢ\n",
       " 485.0 ± 25.0 galᵘˢ\n",
       " 565.0 ± 29.0 galᵘˢ\n",
       " 646.0 ± 33.0 galᵘˢ\n",
       " 727.0 ± 37.0 galᵘˢ\n",
       " 808.0 ± 41.0 galᵘˢ"
      ]
     },
     "execution_count": 122,
     "metadata": {},
     "output_type": "execute_result"
    }
   ],
   "source": [
    "collected = [r * roof_shadow_area |> u\"gal_us\" for r in (0.1:0.1:1.0)u\"inch\"]"
   ]
  },
  {
   "cell_type": "markdown",
   "metadata": {},
   "source": [
    "How many 55-gallon barrels would we need to collect that much water?"
   ]
  },
  {
   "cell_type": "code",
   "execution_count": 127,
   "metadata": {},
   "outputs": [
    {
     "data": {
      "text/plain": [
       "10-element Vector{Measurement{Float64}}:\n",
       "  2.0 ± 0.0\n",
       "  3.0 ± 0.0\n",
       "  5.0 ± 0.0\n",
       "  6.0 ± 0.0\n",
       "  8.0 ± 0.0\n",
       "  9.0 ± 0.0\n",
       " 11.0 ± 0.0\n",
       " 12.0 ± 0.0\n",
       " 14.0 ± 0.0\n",
       " 15.0 ± 0.0"
      ]
     },
     "execution_count": 127,
     "metadata": {},
     "output_type": "execute_result"
    }
   ],
   "source": [
    "collected ./ 55u\"gal_us\" .|> ceil"
   ]
  }
 ],
 "metadata": {
  "kernelspec": {
   "display_name": "Julia 1.6.0",
   "language": "julia",
   "name": "julia-1.6"
  },
  "language_info": {
   "file_extension": ".jl",
   "mimetype": "application/julia",
   "name": "julia",
   "version": "1.6.0"
  }
 },
 "nbformat": 4,
 "nbformat_minor": 2
}
