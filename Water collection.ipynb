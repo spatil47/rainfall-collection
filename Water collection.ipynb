{
 "cells": [
  {
   "cell_type": "markdown",
   "metadata": {},
   "source": [
    "# Water collection"
   ]
  },
  {
   "cell_type": "code",
   "execution_count": 1,
   "metadata": {},
   "outputs": [],
   "source": [
    "using Unitful, UnitfulUS\n",
    "using Statistics\n",
    "using Measurements"
   ]
  },
  {
   "cell_type": "markdown",
   "metadata": {},
   "source": [
    "We take repeated estimates of the length and width of roof's \"shadow area\" (the ground area underneath the roof) area using two different satellite image distance/area measurement tools. We find the average of each array of estimates, consisting of the mean of each array plus/minus one standard deviation of each array, and find the product of the corresponding averages in order to find the average estimated area."
   ]
  },
  {
   "cell_type": "code",
   "execution_count": 2,
   "metadata": {},
   "outputs": [
    {
     "data": {
      "text/plain": [
       "2-element Vector{Quantity{Measurement{Float64}, 𝐋^2, Unitful.FreeUnits{(m^2,), 𝐋^2, nothing}}}:\n",
       " 94.6 ± 6.2 m^2\n",
       " 88.7 ± 9.9 m^2"
      ]
     },
     "execution_count": 2,
     "metadata": {},
     "output_type": "execute_result"
    }
   ],
   "source": [
    "average(estimates, stds=1) = mean(estimates) ± stds*std(estimates)\n",
    "\n",
    "roof_shadow_area_estimates = [\n",
    "    ([4.89, 5.55, 5.14]u\"m\" |> average) * ([18.05, 18.40]u\"m\" |> average),\n",
    "    ([18, 15, 15]u\"ft\" |> average) * ([58, 61, 60]u\"ft\" |> average)\n",
    "] #"
   ]
  },
  {
   "cell_type": "markdown",
   "metadata": {},
   "source": [
    "We can then find an average of these averages, as an inverse-variance weighted mean."
   ]
  },
  {
   "cell_type": "code",
   "execution_count": 3,
   "metadata": {},
   "outputs": [
    {
     "data": {
      "text/plain": [
       "93.0 ± 5.3 m^2"
      ]
     },
     "execution_count": 3,
     "metadata": {},
     "output_type": "execute_result"
    }
   ],
   "source": [
    "roof_shadow_area = weightedmean(ustrip.(roof_shadow_area_estimates))u\"m^2\""
   ]
  },
  {
   "cell_type": "markdown",
   "metadata": {},
   "source": [
    "How much water would be collected from the back roof for every 0.1-inch increment between 0.1 inch and 1.0 inch of rainfall?"
   ]
  },
  {
   "cell_type": "code",
   "execution_count": 4,
   "metadata": {
    "scrolled": true
   },
   "outputs": [
    {
     "data": {
      "text/plain": [
       "10-element Vector{Quantity{Measurement{Float64}, 𝐋^3, Unitful.FreeUnits{(galᵘˢ,), 𝐋^3, nothing}}}:\n",
       "   62.4 ± 3.5 galᵘˢ\n",
       "  124.8 ± 7.1 galᵘˢ\n",
       " 187.0 ± 11.0 galᵘˢ\n",
       " 250.0 ± 14.0 galᵘˢ\n",
       " 312.0 ± 18.0 galᵘˢ\n",
       " 374.0 ± 21.0 galᵘˢ\n",
       " 437.0 ± 25.0 galᵘˢ\n",
       " 499.0 ± 28.0 galᵘˢ\n",
       " 561.0 ± 32.0 galᵘˢ\n",
       " 624.0 ± 35.0 galᵘˢ"
      ]
     },
     "execution_count": 4,
     "metadata": {},
     "output_type": "execute_result"
    }
   ],
   "source": [
    "collected = [r * roof_shadow_area |> u\"gal_us\" for r in (0.1:0.1:1.0)u\"inch\"]"
   ]
  },
  {
   "cell_type": "markdown",
   "metadata": {},
   "source": [
    "How many 55-gallon barrels would we need to collect that much water?"
   ]
  },
  {
   "cell_type": "code",
   "execution_count": 5,
   "metadata": {},
   "outputs": [
    {
     "data": {
      "text/plain": [
       "10-element Vector{Float64}:\n",
       "  2.0\n",
       "  3.0\n",
       "  4.0\n",
       "  5.0\n",
       "  6.0\n",
       "  8.0\n",
       "  9.0\n",
       " 10.0\n",
       " 11.0\n",
       " 12.0"
      ]
     },
     "execution_count": 5,
     "metadata": {},
     "output_type": "execute_result"
    }
   ],
   "source": [
    "mceil(x) = ceil(Measurements.value(x) + Measurements.uncertainty(x))\n",
    "\n",
    "collected ./ 55u\"gal_us\" .|> mceil"
   ]
  }
 ],
 "metadata": {
  "kernelspec": {
   "display_name": "Julia 1.6.0",
   "language": "julia",
   "name": "julia-1.6"
  },
  "language_info": {
   "file_extension": ".jl",
   "mimetype": "application/julia",
   "name": "julia",
   "version": "1.6.0"
  }
 },
 "nbformat": 4,
 "nbformat_minor": 2
}
