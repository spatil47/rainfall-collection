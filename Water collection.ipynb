{
 "cells": [
  {
   "cell_type": "markdown",
   "metadata": {},
   "source": [
    "# Water collection"
   ]
  },
  {
   "cell_type": "code",
   "execution_count": 1,
   "metadata": {},
   "outputs": [],
   "source": [
    "using Unitful, UnitfulUS\n",
    "using Statistics\n",
    "using Measurements"
   ]
  },
  {
   "cell_type": "markdown",
   "metadata": {},
   "source": [
    "According to one estimate, our back roof's \"shadow area\" (ground area underneath it, assuming that the rain falls straight down) is approximately 116 square meters. According to another estimate, our back roof's shadow area is 6.51 meter by 19.16 meter. According to a third estimate, our back roof's shadow area is 114 square meters."
   ]
  },
  {
   "cell_type": "code",
   "execution_count": 2,
   "metadata": {},
   "outputs": [
    {
     "data": {
      "text/plain": [
       "3-element Vector{Quantity{Float64, 𝐋^2, Unitful.FreeUnits{(m^2,), 𝐋^2, nothing}}}:\n",
       "    116.0 m^2\n",
       " 124.7316 m^2\n",
       "    114.0 m^2"
      ]
     },
     "execution_count": 2,
     "metadata": {},
     "output_type": "execute_result"
    }
   ],
   "source": [
    "roof_shadow_area_estimates = [\n",
    "    116u\"m^2\",\n",
    "    6.51u\"m\" * 19.16u\"m\",\n",
    "    114u\"m^2\"\n",
    "]"
   ]
  },
  {
   "cell_type": "markdown",
   "metadata": {},
   "source": [
    "We can use an average of the estimates, which consists of the mean of the estimates plus/minus one standard deviation of the estimates."
   ]
  },
  {
   "cell_type": "code",
   "execution_count": 3,
   "metadata": {},
   "outputs": [
    {
     "data": {
      "text/plain": [
       "118.2 ± 5.7 m^2"
      ]
     },
     "execution_count": 3,
     "metadata": {},
     "output_type": "execute_result"
    }
   ],
   "source": [
    "average(estimates, s=1) = mean(estimates) ± s*std(estimates)\n",
    "roof_shadow_area = average(roof_shadow_area_estimates, 1)"
   ]
  },
  {
   "cell_type": "markdown",
   "metadata": {},
   "source": [
    "How much water would be collected from the back roof for every 0.1-inch increment between 0.1 inch and 1.0 inch of rainfall?"
   ]
  },
  {
   "cell_type": "code",
   "execution_count": 4,
   "metadata": {
    "scrolled": true
   },
   "outputs": [
    {
     "data": {
      "text/plain": [
       "10-element Vector{Quantity{Measurement{Float64}, 𝐋^3, Unitful.FreeUnits{(galᵘˢ,), 𝐋^3, nothing}}}:\n",
       "   79.3 ± 3.8 galᵘˢ\n",
       "  158.7 ± 7.7 galᵘˢ\n",
       " 238.0 ± 11.0 galᵘˢ\n",
       " 317.0 ± 15.0 galᵘˢ\n",
       " 397.0 ± 19.0 galᵘˢ\n",
       " 476.0 ± 23.0 galᵘˢ\n",
       " 555.0 ± 27.0 galᵘˢ\n",
       " 635.0 ± 31.0 galᵘˢ\n",
       " 714.0 ± 34.0 galᵘˢ\n",
       " 793.0 ± 38.0 galᵘˢ"
      ]
     },
     "execution_count": 4,
     "metadata": {},
     "output_type": "execute_result"
    }
   ],
   "source": [
    "collected = [r * roof_shadow_area |> u\"gal_us\" for r in (0.1:0.1:1.0)u\"inch\"]"
   ]
  },
  {
   "cell_type": "markdown",
   "metadata": {},
   "source": [
    "How many 55-gallon barrels would we need to collect that much water?"
   ]
  },
  {
   "cell_type": "code",
   "execution_count": 5,
   "metadata": {},
   "outputs": [
    {
     "data": {
      "text/plain": [
       "10-element Vector{Float64}:\n",
       "  2.0\n",
       "  4.0\n",
       "  5.0\n",
       "  7.0\n",
       "  8.0\n",
       " 10.0\n",
       " 11.0\n",
       " 13.0\n",
       " 14.0\n",
       " 16.0"
      ]
     },
     "execution_count": 5,
     "metadata": {},
     "output_type": "execute_result"
    }
   ],
   "source": [
    "mceil(x) = ceil(Measurements.value(x) + Measurements.uncertainty(x))\n",
    "collected ./ 55u\"gal_us\" .|> mceil"
   ]
  }
 ],
 "metadata": {
  "kernelspec": {
   "display_name": "Julia 1.6.0",
   "language": "julia",
   "name": "julia-1.6"
  },
  "language_info": {
   "file_extension": ".jl",
   "mimetype": "application/julia",
   "name": "julia",
   "version": "1.6.0"
  }
 },
 "nbformat": 4,
 "nbformat_minor": 2
}
